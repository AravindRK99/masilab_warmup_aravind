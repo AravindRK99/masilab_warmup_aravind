{
 "cells": [
  {
   "cell_type": "code",
   "execution_count": 1,
   "metadata": {},
   "outputs": [],
   "source": [
    "# The data_dir variable is the only input allowed to your code. \n",
    "# Do not modify any file names in the image directory.\n",
    "data_dir = \"./MASI_pets\"\n",
    "# Add your code in the cells."
   ]
  },
  {
   "cell_type": "code",
   "execution_count": 2,
   "metadata": {},
   "outputs": [],
   "source": [
    "#Add all libraries \n",
    "import numpy as np \n",
    "import pandas as pd\n",
    "import matplotlib.pyplot as plt\n",
    "from PIL import Image\n",
    "%matplotlib inline\n",
    "from glob import glob\n",
    "import os"
   ]
  },
  {
   "cell_type": "markdown",
   "metadata": {},
   "source": [
    "## Task 1: Gathering meta data from image files "
   ]
  },
  {
   "cell_type": "code",
   "execution_count": 16,
   "metadata": {},
   "outputs": [],
   "source": [
    "#img_name.sort()\n",
    "data = os.listdir(data_dir)\n",
    "data.sort()"
   ]
  },
  {
   "cell_type": "code",
   "execution_count": 19,
   "metadata": {},
   "outputs": [],
   "source": [
    "img_list = [] #Store the names of files\n",
    "num_arr = [] #Convert images to numpy arrays\n",
    "img_name = [] #Name of image\n",
    "img_dim = [] #image dimensions\n",
    "img_size = [] #Total number of pixels\n",
    "img_asp_rat = [] #Aspect ratio\n",
    "pet_name = [] #Name of pet\n",
    "owner = [] #Name of owner\n",
    "for image in data:\n",
    "    img_name.append(image) #Image name"
   ]
  },
  {
   "cell_type": "code",
   "execution_count": 20,
   "metadata": {},
   "outputs": [],
   "source": [
    "for img in data:\n",
    "    image = os.path.join(data_dir, img)\n",
    "    read = Image.open(image) #Converting strings to images and appending them to a list\n",
    "    img_list.append(read)"
   ]
  },
  {
   "cell_type": "code",
   "execution_count": 21,
   "metadata": {},
   "outputs": [
    {
     "data": {
      "text/plain": [
       "['Arthur_FR.jpg',\n",
       " 'August_XY.jpg',\n",
       " 'Disney_XY.jpg',\n",
       " 'Francie_CK.jpg',\n",
       " 'Fuzzy Pants_BL.png',\n",
       " 'Hamilton_CK.png',\n",
       " 'Hazel_KS.JPG',\n",
       " 'Lucky_TL.jpg',\n",
       " 'Mango_LC.jpg',\n",
       " 'Max_BL.jpg',\n",
       " 'Morris and Jackson_YT.jpg',\n",
       " 'Nimbus_KR.jpg',\n",
       " 'Nutmeg_BL.JPG',\n",
       " 'Oliver_CB.jpg',\n",
       " 'Ruby and Buddy_MK.jpg',\n",
       " 'Xiaomi_CG.jpeg',\n",
       " 'Yasha_SR.jpg',\n",
       " 'Ziggy_NN.jpg']"
      ]
     },
     "execution_count": 21,
     "metadata": {},
     "output_type": "execute_result"
    }
   ],
   "source": [
    "img_name"
   ]
  },
  {
   "cell_type": "code",
   "execution_count": 23,
   "metadata": {},
   "outputs": [],
   "source": [
    "for pet in img_list:\n",
    "    num_arr.append(np.asarray(pet))"
   ]
  },
  {
   "cell_type": "code",
   "execution_count": 22,
   "metadata": {},
   "outputs": [
    {
     "data": {
      "text/plain": [
       "[<PIL.JpegImagePlugin.JpegImageFile image mode=RGB size=3024x4032 at 0x7F77026AD310>,\n",
       " <PIL.JpegImagePlugin.JpegImageFile image mode=RGB size=3024x4032 at 0x7F770214AF10>,\n",
       " <PIL.JpegImagePlugin.JpegImageFile image mode=RGB size=4032x3024 at 0x7F770214AEB0>,\n",
       " <PIL.JpegImagePlugin.JpegImageFile image mode=RGB size=3024x4032 at 0x7F770214AD60>,\n",
       " <PIL.PngImagePlugin.PngImageFile image mode=RGBA size=1785x3173 at 0x7F770214ACD0>,\n",
       " <PIL.PngImagePlugin.PngImageFile image mode=RGBA size=3024x4032 at 0x7F770214ABE0>,\n",
       " <PIL.JpegImagePlugin.JpegImageFile image mode=RGB size=649x1398 at 0x7F770214AB80>,\n",
       " <PIL.JpegImagePlugin.JpegImageFile image mode=RGB size=2268x4032 at 0x7F770214ABB0>,\n",
       " <PIL.JpegImagePlugin.JpegImageFile image mode=RGB size=3024x4032 at 0x7F770214AB20>,\n",
       " <PIL.JpegImagePlugin.JpegImageFile image mode=RGB size=1960x4032 at 0x7F770214FE20>,\n",
       " <PIL.JpegImagePlugin.JpegImageFile image mode=RGB size=1838x1278 at 0x7F770214F0A0>,\n",
       " <PIL.JpegImagePlugin.JpegImageFile image mode=RGB size=1200x1600 at 0x7F770215D130>,\n",
       " <PIL.JpegImagePlugin.JpegImageFile image mode=RGB size=3072x2304 at 0x7F770215DF10>,\n",
       " <PIL.JpegImagePlugin.JpegImageFile image mode=RGB size=2448x3264 at 0x7F770215D0D0>,\n",
       " <PIL.JpegImagePlugin.JpegImageFile image mode=RGB size=3024x4032 at 0x7F7702161D00>,\n",
       " <PIL.JpegImagePlugin.JpegImageFile image mode=RGB size=3024x4032 at 0x7F7702161F10>,\n",
       " <PIL.JpegImagePlugin.JpegImageFile image mode=RGB size=3456x4608 at 0x7F7702161E20>,\n",
       " <PIL.JpegImagePlugin.JpegImageFile image mode=RGB size=3024x4032 at 0x7F7702161DC0>]"
      ]
     },
     "execution_count": 22,
     "metadata": {},
     "output_type": "execute_result"
    }
   ],
   "source": [
    "img_list"
   ]
  },
  {
   "cell_type": "code",
   "execution_count": 24,
   "metadata": {},
   "outputs": [],
   "source": [
    "for im in num_arr:\n",
    "    img_dim.append((im.shape[0],im.shape[1])) #Tuple representing heigh and width of image\n",
    "    img_size.append(im.shape[0] * im.shape[1])\n",
    "    img_asp_rat.append(float(im.shape[1]/im.shape[0]))"
   ]
  },
  {
   "cell_type": "code",
   "execution_count": 25,
   "metadata": {},
   "outputs": [
    {
     "data": {
      "text/plain": [
       "[(4032, 3024),\n",
       " (4032, 3024),\n",
       " (3024, 4032),\n",
       " (4032, 3024),\n",
       " (3173, 1785),\n",
       " (4032, 3024),\n",
       " (1398, 649),\n",
       " (4032, 2268),\n",
       " (4032, 3024),\n",
       " (4032, 1960),\n",
       " (1278, 1838),\n",
       " (1600, 1200),\n",
       " (2304, 3072),\n",
       " (3264, 2448),\n",
       " (4032, 3024),\n",
       " (4032, 3024),\n",
       " (4608, 3456),\n",
       " (4032, 3024)]"
      ]
     },
     "execution_count": 25,
     "metadata": {},
     "output_type": "execute_result"
    }
   ],
   "source": [
    "img_dim"
   ]
  },
  {
   "cell_type": "code",
   "execution_count": 26,
   "metadata": {},
   "outputs": [
    {
     "data": {
      "text/plain": [
       "[12192768,\n",
       " 12192768,\n",
       " 12192768,\n",
       " 12192768,\n",
       " 5663805,\n",
       " 12192768,\n",
       " 907302,\n",
       " 9144576,\n",
       " 12192768,\n",
       " 7902720,\n",
       " 2348964,\n",
       " 1920000,\n",
       " 7077888,\n",
       " 7990272,\n",
       " 12192768,\n",
       " 12192768,\n",
       " 15925248,\n",
       " 12192768]"
      ]
     },
     "execution_count": 26,
     "metadata": {},
     "output_type": "execute_result"
    }
   ],
   "source": [
    "img_size"
   ]
  },
  {
   "cell_type": "code",
   "execution_count": 27,
   "metadata": {},
   "outputs": [
    {
     "data": {
      "text/plain": [
       "[0.75,\n",
       " 0.75,\n",
       " 1.3333333333333333,\n",
       " 0.75,\n",
       " 0.5625590923416325,\n",
       " 0.75,\n",
       " 0.4642346208869814,\n",
       " 0.5625,\n",
       " 0.75,\n",
       " 0.4861111111111111,\n",
       " 1.4381846635367763,\n",
       " 0.75,\n",
       " 1.3333333333333333,\n",
       " 0.75,\n",
       " 0.75,\n",
       " 0.75,\n",
       " 0.75,\n",
       " 0.75]"
      ]
     },
     "execution_count": 27,
     "metadata": {},
     "output_type": "execute_result"
    }
   ],
   "source": [
    "img_asp_rat"
   ]
  },
  {
   "cell_type": "code",
   "execution_count": 28,
   "metadata": {},
   "outputs": [],
   "source": [
    "new = [pet.split('_') for pet in data]"
   ]
  },
  {
   "cell_type": "code",
   "execution_count": 29,
   "metadata": {},
   "outputs": [
    {
     "data": {
      "text/plain": [
       "[['Arthur', 'FR.jpg'],\n",
       " ['August', 'XY.jpg'],\n",
       " ['Disney', 'XY.jpg'],\n",
       " ['Francie', 'CK.jpg'],\n",
       " ['Fuzzy Pants', 'BL.png'],\n",
       " ['Hamilton', 'CK.png'],\n",
       " ['Hazel', 'KS.JPG'],\n",
       " ['Lucky', 'TL.jpg'],\n",
       " ['Mango', 'LC.jpg'],\n",
       " ['Max', 'BL.jpg'],\n",
       " ['Morris and Jackson', 'YT.jpg'],\n",
       " ['Nimbus', 'KR.jpg'],\n",
       " ['Nutmeg', 'BL.JPG'],\n",
       " ['Oliver', 'CB.jpg'],\n",
       " ['Ruby and Buddy', 'MK.jpg'],\n",
       " ['Xiaomi', 'CG.jpeg'],\n",
       " ['Yasha', 'SR.jpg'],\n",
       " ['Ziggy', 'NN.jpg']]"
      ]
     },
     "execution_count": 29,
     "metadata": {},
     "output_type": "execute_result"
    }
   ],
   "source": [
    "new"
   ]
  },
  {
   "cell_type": "code",
   "execution_count": 30,
   "metadata": {},
   "outputs": [],
   "source": [
    "\n",
    "for item in new:\n",
    "    pet_name.append(item[0])\n",
    "    owner.append(item[1].split('.')[0])"
   ]
  },
  {
   "cell_type": "code",
   "execution_count": null,
   "metadata": {},
   "outputs": [],
   "source": []
  }
 ],
 "metadata": {
  "kernelspec": {
   "display_name": "Python 3",
   "language": "python",
   "name": "python3"
  },
  "language_info": {
   "codemirror_mode": {
    "name": "ipython",
    "version": 3
   },
   "file_extension": ".py",
   "mimetype": "text/x-python",
   "name": "python",
   "nbconvert_exporter": "python",
   "pygments_lexer": "ipython3",
   "version": "3.8.3"
  },
  "vscode": {
   "interpreter": {
    "hash": "31f2aee4e71d21fbe5cf8b01ff0e069b9275f58929596ceb00d14d90e3e16cd6"
   }
  }
 },
 "nbformat": 4,
 "nbformat_minor": 4
}
