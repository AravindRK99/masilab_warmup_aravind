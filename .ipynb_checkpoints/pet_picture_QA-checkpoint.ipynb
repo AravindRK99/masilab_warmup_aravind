{
 "cells": [
  {
   "cell_type": "code",
   "execution_count": 14,
   "metadata": {},
   "outputs": [],
   "source": [
    "# The data_dir variable is the only input allowed to your code. \n",
    "# Do not modify any file names in the image directory.\n",
    "data_dir = \"MASI_pets\"\n",
    "# Add your code in the cells."
   ]
  },
  {
   "cell_type": "code",
   "execution_count": 15,
   "metadata": {},
   "outputs": [],
   "source": [
    "#Add all libraries \n",
    "import numpy as np \n",
    "import pandas as pd\n",
    "import matplotlib.pyplot as plt\n",
    "from PIL import Image\n",
    "%matplotlib inline\n",
    "from glob import glob\n",
    "import os\n",
    "import base64"
   ]
  },
  {
   "cell_type": "markdown",
   "metadata": {},
   "source": [
    "## Task 1: Gathering meta data from image files "
   ]
  },
  {
   "cell_type": "code",
   "execution_count": 63,
   "metadata": {},
   "outputs": [],
   "source": [
    "img_list = [] #Store the names of files\n",
    "num_arr = [] #Convert images to numpy arrays\n",
    "img_name = [] #Name of image\n",
    "img_dim = [] #image dimensions\n",
    "img_size = [] #Total number of pixels\n",
    "img_asp_rat = [] #Aspect ratio\n",
    "pet_name = [] #Name of pet\n",
    "owner = [] #Name of owner\n",
    "for image in os.listdir(data_dir):\n",
    "    img_name.append(image) #Image name"
   ]
  },
  {
   "cell_type": "code",
   "execution_count": 64,
   "metadata": {},
   "outputs": [],
   "source": [
    "for img in os.listdir(data_dir):\n",
    "    image = os.path.join(data_dir, img)\n",
    "    read = Image.open(image) #Converting strings to images and appending them to a list\n",
    "    img_list.append(read)"
   ]
  },
  {
   "cell_type": "code",
   "execution_count": 65,
   "metadata": {},
   "outputs": [],
   "source": [
    "for pet in img_list:\n",
    "    num_arr.append(np.asarray(pet))"
   ]
  },
  {
   "cell_type": "code",
   "execution_count": 66,
   "metadata": {},
   "outputs": [
    {
     "data": {
      "text/plain": [
       "[<PIL.PngImagePlugin.PngImageFile image mode=RGBA size=1785x3173 at 0x7F0ECE8D9490>,\n",
       " <PIL.JpegImagePlugin.JpegImageFile image mode=RGB size=3024x4032 at 0x7F0ECE8D9F40>,\n",
       " <PIL.JpegImagePlugin.JpegImageFile image mode=RGB size=1200x1600 at 0x7F0ECE8779A0>,\n",
       " <PIL.PngImagePlugin.PngImageFile image mode=RGBA size=3024x4032 at 0x7F0ECE8997F0>,\n",
       " <PIL.JpegImagePlugin.JpegImageFile image mode=RGB size=3024x4032 at 0x7F0ECE899BB0>,\n",
       " <PIL.JpegImagePlugin.JpegImageFile image mode=RGB size=2268x4032 at 0x7F0ECE899D60>,\n",
       " <PIL.JpegImagePlugin.JpegImageFile image mode=RGB size=4032x3024 at 0x7F0ECE899EE0>,\n",
       " <PIL.JpegImagePlugin.JpegImageFile image mode=RGB size=3456x4608 at 0x7F0ECE899820>,\n",
       " <PIL.JpegImagePlugin.JpegImageFile image mode=RGB size=1838x1278 at 0x7F0ECE8999A0>,\n",
       " <PIL.JpegImagePlugin.JpegImageFile image mode=RGB size=3072x2304 at 0x7F0ECE899D30>,\n",
       " <PIL.JpegImagePlugin.JpegImageFile image mode=RGB size=3024x4032 at 0x7F0ECE899B20>,\n",
       " <PIL.JpegImagePlugin.JpegImageFile image mode=RGB size=3024x4032 at 0x7F0ECE8A4CA0>,\n",
       " <PIL.JpegImagePlugin.JpegImageFile image mode=RGB size=1960x4032 at 0x7F0ECE8A41F0>,\n",
       " <PIL.JpegImagePlugin.JpegImageFile image mode=RGB size=2448x3264 at 0x7F0ECE8A41C0>,\n",
       " <PIL.JpegImagePlugin.JpegImageFile image mode=RGB size=649x1398 at 0x7F0EB750E370>,\n",
       " <PIL.JpegImagePlugin.JpegImageFile image mode=RGB size=3024x4032 at 0x7F0EB750EEE0>,\n",
       " <PIL.JpegImagePlugin.JpegImageFile image mode=RGB size=3024x4032 at 0x7F0EB750EE80>,\n",
       " <PIL.JpegImagePlugin.JpegImageFile image mode=RGB size=3024x4032 at 0x7F0EB750ED60>]"
      ]
     },
     "execution_count": 66,
     "metadata": {},
     "output_type": "execute_result"
    }
   ],
   "source": [
    "img_list"
   ]
  },
  {
   "cell_type": "code",
   "execution_count": 67,
   "metadata": {},
   "outputs": [],
   "source": [
    "for im in num_arr:\n",
    "    img_dim.append((im.shape[0],im.shape[1])) #Tuple representing heigh and width of image\n",
    "    img_size.append(im.shape[0] * im.shape[1])\n",
    "    img_asp_rat.append(float(im.shape[1]/im.shape[0]))"
   ]
  },
  {
   "cell_type": "code",
   "execution_count": 68,
   "metadata": {},
   "outputs": [
    {
     "data": {
      "text/plain": [
       "[(3173, 1785),\n",
       " (4032, 3024),\n",
       " (1600, 1200),\n",
       " (4032, 3024),\n",
       " (4032, 3024),\n",
       " (4032, 2268),\n",
       " (3024, 4032),\n",
       " (4608, 3456),\n",
       " (1278, 1838),\n",
       " (2304, 3072),\n",
       " (4032, 3024),\n",
       " (4032, 3024),\n",
       " (4032, 1960),\n",
       " (3264, 2448),\n",
       " (1398, 649),\n",
       " (4032, 3024),\n",
       " (4032, 3024),\n",
       " (4032, 3024)]"
      ]
     },
     "execution_count": 68,
     "metadata": {},
     "output_type": "execute_result"
    }
   ],
   "source": [
    "img_dim"
   ]
  },
  {
   "cell_type": "code",
   "execution_count": 69,
   "metadata": {},
   "outputs": [
    {
     "data": {
      "text/plain": [
       "[5663805,\n",
       " 12192768,\n",
       " 1920000,\n",
       " 12192768,\n",
       " 12192768,\n",
       " 9144576,\n",
       " 12192768,\n",
       " 15925248,\n",
       " 2348964,\n",
       " 7077888,\n",
       " 12192768,\n",
       " 12192768,\n",
       " 7902720,\n",
       " 7990272,\n",
       " 907302,\n",
       " 12192768,\n",
       " 12192768,\n",
       " 12192768]"
      ]
     },
     "execution_count": 69,
     "metadata": {},
     "output_type": "execute_result"
    }
   ],
   "source": [
    "img_size"
   ]
  },
  {
   "cell_type": "code",
   "execution_count": 70,
   "metadata": {},
   "outputs": [
    {
     "data": {
      "text/plain": [
       "[0.5625590923416325,\n",
       " 0.75,\n",
       " 0.75,\n",
       " 0.75,\n",
       " 0.75,\n",
       " 0.5625,\n",
       " 1.3333333333333333,\n",
       " 0.75,\n",
       " 1.4381846635367763,\n",
       " 1.3333333333333333,\n",
       " 0.75,\n",
       " 0.75,\n",
       " 0.4861111111111111,\n",
       " 0.75,\n",
       " 0.4642346208869814,\n",
       " 0.75,\n",
       " 0.75,\n",
       " 0.75]"
      ]
     },
     "execution_count": 70,
     "metadata": {},
     "output_type": "execute_result"
    }
   ],
   "source": [
    "img_asp_rat"
   ]
  },
  {
   "cell_type": "code",
   "execution_count": null,
   "metadata": {},
   "outputs": [],
   "source": []
  }
 ],
 "metadata": {
  "kernelspec": {
   "display_name": "Python 3",
   "language": "python",
   "name": "python3"
  },
  "language_info": {
   "codemirror_mode": {
    "name": "ipython",
    "version": 3
   },
   "file_extension": ".py",
   "mimetype": "text/x-python",
   "name": "python",
   "nbconvert_exporter": "python",
   "pygments_lexer": "ipython3",
   "version": "3.8.3"
  },
  "vscode": {
   "interpreter": {
    "hash": "31f2aee4e71d21fbe5cf8b01ff0e069b9275f58929596ceb00d14d90e3e16cd6"
   }
  }
 },
 "nbformat": 4,
 "nbformat_minor": 4
}
